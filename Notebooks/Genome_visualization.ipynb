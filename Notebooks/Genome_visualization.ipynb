{
 "cells": [
  {
   "cell_type": "markdown",
   "metadata": {},
   "source": [
    "# Genome visualization\n",
    "This notebook is intended to explore a few ways to visualize the _P. amilis_ genome and genomic features like gene models. "
   ]
  },
  {
   "cell_type": "code",
   "execution_count": 4,
   "metadata": {},
   "outputs": [],
   "source": [
    "# Core\n",
    "import re, os, glob, sys\n",
    "import pandas as pd\n",
    "from itertools import cycle, islice\n",
    "import numpy as np\n",
    "# Plotting\n",
    "%matplotlib inline\n",
    "import matplotlib.pyplot as plt\n",
    "import matplotlib.patches as mpatches\n",
    "import seaborn as sns\n",
    "import nxviz as nx"
   ]
  },
  {
   "cell_type": "code",
   "execution_count": 5,
   "metadata": {},
   "outputs": [],
   "source": [
    "import pygenometracks as pgt"
   ]
  },
  {
   "cell_type": "code",
   "execution_count": 129,
   "metadata": {},
   "outputs": [
    {
     "name": "stderr",
     "output_type": "stream",
     "text": [
      "Number of fields in BED file is not standard. Assuming bed6\n"
     ]
    }
   ],
   "source": [
    "bed = pgt.tracks.ReadBed(open(\"/Users/iangilman/Dropbox/P_amilis_genome_project/MAKER_single_core/P_amilis_R1.Scaffold_2366.bed\", \"r\"))"
   ]
  },
  {
   "cell_type": "code",
   "execution_count": 127,
   "metadata": {},
   "outputs": [
    {
     "ename": "AssertionError",
     "evalue": "File type detected is bed6 but line 2: Scaffold_1\t0\t1270\tScaffold_1\t.\t.\t.\tcontig\t.\tID=Scaffold_1;Name=Scaffold_1\n does not have 6 fields.",
     "output_type": "error",
     "traceback": [
      "\u001b[0;31m---------------------------------------------------------------------------\u001b[0m",
      "\u001b[0;31mAssertionError\u001b[0m                            Traceback (most recent call last)",
      "\u001b[0;32m<ipython-input-127-07c7eabeb0ef>\u001b[0m in \u001b[0;36m<module>\u001b[0;34m()\u001b[0m\n\u001b[0;32m----> 1\u001b[0;31m \u001b[0;32mfor\u001b[0m \u001b[0minterval\u001b[0m \u001b[0;32min\u001b[0m \u001b[0mbed\u001b[0m\u001b[0;34m:\u001b[0m\u001b[0;34m\u001b[0m\u001b[0;34m\u001b[0m\u001b[0m\n\u001b[0m\u001b[1;32m      2\u001b[0m     \u001b[0mprint\u001b[0m\u001b[0;34m(\u001b[0m\u001b[0mbed\u001b[0m\u001b[0;34m[\u001b[0m\u001b[0;34m\"start\"\u001b[0m\u001b[0;34m]\u001b[0m\u001b[0;34m)\u001b[0m\u001b[0;34m\u001b[0m\u001b[0;34m\u001b[0m\u001b[0m\n",
      "\u001b[0;32m~/anaconda2/envs/ipykernel_py3/lib/python3.6/site-packages/pygenometracks/readBed.py\u001b[0m in \u001b[0;36m__next__\u001b[0;34m(self)\u001b[0m\n\u001b[1;32m    121\u001b[0m         \u001b[0mline\u001b[0m \u001b[0;34m=\u001b[0m \u001b[0mself\u001b[0m\u001b[0;34m.\u001b[0m\u001b[0mget_no_comment_line\u001b[0m\u001b[0;34m(\u001b[0m\u001b[0;34m)\u001b[0m\u001b[0;34m\u001b[0m\u001b[0;34m\u001b[0m\u001b[0m\n\u001b[1;32m    122\u001b[0m \u001b[0;34m\u001b[0m\u001b[0m\n\u001b[0;32m--> 123\u001b[0;31m         \u001b[0mbed\u001b[0m \u001b[0;34m=\u001b[0m \u001b[0mself\u001b[0m\u001b[0;34m.\u001b[0m\u001b[0mget_bed_interval\u001b[0m\u001b[0;34m(\u001b[0m\u001b[0mline\u001b[0m\u001b[0;34m)\u001b[0m\u001b[0;34m\u001b[0m\u001b[0;34m\u001b[0m\u001b[0m\n\u001b[0m\u001b[1;32m    124\u001b[0m         \u001b[0;32mif\u001b[0m \u001b[0mself\u001b[0m\u001b[0;34m.\u001b[0m\u001b[0mprev_chrom\u001b[0m \u001b[0;34m==\u001b[0m \u001b[0mbed\u001b[0m\u001b[0;34m.\u001b[0m\u001b[0mchromosome\u001b[0m\u001b[0;34m:\u001b[0m\u001b[0;34m\u001b[0m\u001b[0;34m\u001b[0m\u001b[0m\n\u001b[1;32m    125\u001b[0m             \u001b[0;32massert\u001b[0m \u001b[0mself\u001b[0m\u001b[0;34m.\u001b[0m\u001b[0mprev_start\u001b[0m \u001b[0;34m<=\u001b[0m \u001b[0mbed\u001b[0m\u001b[0;34m.\u001b[0m\u001b[0mstart\u001b[0m\u001b[0;34m,\u001b[0m\u001b[0;31m \u001b[0m\u001b[0;31m\\\u001b[0m\u001b[0;34m\u001b[0m\u001b[0;34m\u001b[0m\u001b[0m\n",
      "\u001b[0;32m~/anaconda2/envs/ipykernel_py3/lib/python3.6/site-packages/pygenometracks/readBed.py\u001b[0m in \u001b[0;36mget_bed_interval\u001b[0;34m(self, bed_line)\u001b[0m\n\u001b[1;32m    171\u001b[0m         \u001b[0;32melif\u001b[0m \u001b[0mself\u001b[0m\u001b[0;34m.\u001b[0m\u001b[0mfile_type\u001b[0m \u001b[0;34m==\u001b[0m \u001b[0;34m'bed6'\u001b[0m\u001b[0;34m:\u001b[0m\u001b[0;34m\u001b[0m\u001b[0;34m\u001b[0m\u001b[0m\n\u001b[1;32m    172\u001b[0m             \u001b[0;32massert\u001b[0m \u001b[0mlen\u001b[0m\u001b[0;34m(\u001b[0m\u001b[0mline_data\u001b[0m\u001b[0;34m)\u001b[0m \u001b[0;34m==\u001b[0m \u001b[0;36m6\u001b[0m\u001b[0;34m,\u001b[0m \u001b[0;34m\"File type detected is bed6 but line {}: {} does \"\u001b[0m\u001b[0;31m \u001b[0m\u001b[0;31m\\\u001b[0m\u001b[0;34m\u001b[0m\u001b[0;34m\u001b[0m\u001b[0m\n\u001b[0;32m--> 173\u001b[0;31m                 \u001b[0;34m\"not have 6 fields.\"\u001b[0m\u001b[0;34m.\u001b[0m\u001b[0mformat\u001b[0m\u001b[0;34m(\u001b[0m\u001b[0mself\u001b[0m\u001b[0;34m.\u001b[0m\u001b[0mline_number\u001b[0m\u001b[0;34m,\u001b[0m \u001b[0mbed_line\u001b[0m\u001b[0;34m)\u001b[0m\u001b[0;34m\u001b[0m\u001b[0;34m\u001b[0m\u001b[0m\n\u001b[0m\u001b[1;32m    174\u001b[0m         \u001b[0mline_values\u001b[0m \u001b[0;34m=\u001b[0m \u001b[0;34m[\u001b[0m\u001b[0;34m]\u001b[0m\u001b[0;34m\u001b[0m\u001b[0;34m\u001b[0m\u001b[0m\n\u001b[1;32m    175\u001b[0m         \u001b[0;32mfor\u001b[0m \u001b[0midx\u001b[0m\u001b[0;34m,\u001b[0m \u001b[0mr\u001b[0m \u001b[0;32min\u001b[0m \u001b[0menumerate\u001b[0m\u001b[0;34m(\u001b[0m\u001b[0mline_data\u001b[0m\u001b[0;34m)\u001b[0m\u001b[0;34m:\u001b[0m\u001b[0;34m\u001b[0m\u001b[0;34m\u001b[0m\u001b[0m\n",
      "\u001b[0;31mAssertionError\u001b[0m: File type detected is bed6 but line 2: Scaffold_1\t0\t1270\tScaffold_1\t.\t.\t.\tcontig\t.\tID=Scaffold_1;Name=Scaffold_1\n does not have 6 fields."
     ]
    }
   ],
   "source": [
    "for interval in bed:\n",
    "    print(bed[\"start\"])"
   ]
  },
  {
   "cell_type": "markdown",
   "metadata": {},
   "source": [
    "## Sandbox\n",
    "### Reorganizing `gff` files\n",
    "**Problem:** `GFF3` files are supposed to have sequence regions with headers that indicate the genome region and the start and stop positions of that region. \n",
    "```\n",
    "##gff-version 3.2.1\n",
    "##sequence-region ctg123 1 1497228\n",
    "ctg123 . gene            1000 9000  .  +  .  ID=gene00001;Name=EDEN\n",
    "ctg123 . TF_binding_site 1000 1012  .  +  .  Parent=gene00001\n",
    "ctg123 . mRNA            1050 9000  .  +  .  ID=mRNA00001;Parent=gene00001\n",
    "ctg123 . mRNA            1050 9000  .  +  .  ID=mRNA00002;Parent=gene00001\n",
    "ctg123 . mRNA            1300 9000  .  +  .  ID=mRNA00003;Parent=gene00001\n",
    "```\n",
    "\n",
    "All features in the region are then listed below that header. Currently I have no sequence headers and features from the same region (scaffold in my case) are scattered through the file.\n",
    "\n",
    "**Goal:** Rearrange my features under single headers and add start and stop positions to those region headers."
   ]
  },
  {
   "cell_type": "code",
   "execution_count": 58,
   "metadata": {},
   "outputs": [],
   "source": [
    "faipath = \"/Users/iangilman/Dropbox/P_amilis_genome_project/portulaca_26Nov2018_oK3Ko.fixed.fasta.fai\"\n",
    "fai = pd.read_csv(filepath_or_buffer=faipath, sep=\"\\t\", usecols=[0,1], names=[\"name\", \"length\"])"
   ]
  },
  {
   "cell_type": "markdown",
   "metadata": {},
   "source": [
    "Quick visual check that I'm reading the `.fai` correctly. The cumulative sum of all of the regions should add up to the total length of the genome."
   ]
  },
  {
   "cell_type": "code",
   "execution_count": 71,
   "metadata": {},
   "outputs": [
    {
     "data": {
      "image/png": "[encoded data removed]",
      "text/plain": [
       "<Figure size 576x432 with 1 Axes>"
      ]
     },
     "metadata": {},
     "output_type": "display_data"
    }
   ],
   "source": [
    "fig, ax = plt.subplots(figsize=(8,6))\n",
    "\n",
    "genome_size = 403885173\n",
    "ax.hlines(y=genome_size, xmin=-10, xmax=len(fai)*1.01, colors=\"grey\", linestyles=\":\")\n",
    "\n",
    "ax.plot(fai[\"length\"].cumsum().index, fai[\"length\"].cumsum(), c='blue')\n",
    "ax.semilogy()\n",
    "\n",
    "ax.set_xlabel(\"Scaffold\")\n",
    "ax.set_ylabel(\"Cumulative length (bp)\")\n",
    "ax.set_xlim([-10, len(fai)*1.01])\n",
    "\n",
    "plt.tight_layout()"
   ]
  },
  {
   "cell_type": "markdown",
   "metadata": {},
   "source": [
    "Now let's create a list of `GFF3` genomic region headers"
   ]
  },
  {
   "cell_type": "code",
   "execution_count": 118,
   "metadata": {},
   "outputs": [],
   "source": [
    "def fai2gff3regions(fai_path):\n",
    "    fai = pd.read_csv(filepath_or_buffer=fai_path, sep=\"\\t\", usecols=[0,1], names=[\"name\", \"length\"])\n",
    "    \n",
    "    cumsum = fai[\"length\"].cumsum()\n",
    "    \n",
    "    gff3regions = []\n",
    "    for i in range(len(cumsum)):\n",
    "        if i==0:\n",
    "            gff3regions.append(\"##sequence-region {} 1 {}\\n\".format(fai[\"name\"][i], cumsum[i]))\n",
    "        else:\n",
    "            gff3regions.append(\"##sequence-region {} {} {}\\n\".format(fai[\"name\"][i], cumsum[i-1]+1, cumsum[i]))\n",
    "    return gff3regions"
   ]
  },
  {
   "cell_type": "code",
   "execution_count": 119,
   "metadata": {},
   "outputs": [
    {
     "data": {
      "text/plain": [
       "['##sequence-region Scaffold_1 1 1270\\n',\n",
       " '##sequence-region Scaffold_2 1271 2310\\n',\n",
       " '##sequence-region Scaffold_3 2311 4140\\n',\n",
       " '##sequence-region Scaffold_4 4141 5375\\n',\n",
       " '##sequence-region Scaffold_5 5376 8555\\n']"
      ]
     },
     "execution_count": 119,
     "metadata": {},
     "output_type": "execute_result"
    }
   ],
   "source": [
    "fai2gff3regions(fai_path=faipath)[:5]"
   ]
  },
  {
   "cell_type": "markdown",
   "metadata": {},
   "source": [
    "Moving on to the `gff` file itself; we'll extract just the lines with features."
   ]
  },
  {
   "cell_type": "code",
   "execution_count": 120,
   "metadata": {},
   "outputs": [
    {
     "data": {
      "text/plain": [
       "['Scaffold_27\\t.\\tcontig\\t1\\t3334\\t.\\t.\\t.\\tID=Scaffold_27;Name=Scaffold_27\\n',\n",
       " 'Scaffold_27\\trepeat_gff:repeatmasker\\tmatch\\t12\\t199\\t1173\\t-\\t.\\tID=Scaffold_27:hit:39:1.3.0.0;Name=342270;Target=342270 69 250 +\\n',\n",
       " 'Scaffold_27\\trepeat_gff:repeatmasker\\tmatch_part\\t12\\t199\\t1173\\t-\\t.\\tID=Scaffold_27:hsp:39:1.3.0.0;Parent=Scaffold_27:hit:39:1.3.0.0;Target=342270 69 250 +\\n',\n",
       " 'Scaffold_27\\trepeat_gff:repeatmasker\\tmatch\\t374\\t3334\\t8096\\t+\\t.\\tID=Scaffold_27:hit:40:1.3.0.0;Name=342274;Target=342274 2731 3807 +\\n',\n",
       " 'Scaffold_27\\trepeat_gff:repeatmasker\\tmatch_part\\t374\\t3334\\t8096\\t+\\t.\\tID=Scaffold_27:hsp:40:1.3.0.0;Parent=Scaffold_27:hit:40:1.3.0.0;Target=342274 2731 3807 +\\n']"
      ]
     },
     "execution_count": 120,
     "metadata": {},
     "output_type": "execute_result"
    }
   ],
   "source": [
    "gffpath = \"/Users/iangilman/Dropbox/P_amilis_genome_project/MAKER_single_core/P_amilis_R1.all.maker.noseq.fixed.gff\"\n",
    "with open(gffpath, \"r\") as g:\n",
    "    gfflines = [line for line in g.readlines() if not line.startswith(\"#\")]\n",
    "gfflines[:5]"
   ]
  },
  {
   "cell_type": "code",
   "execution_count": 121,
   "metadata": {},
   "outputs": [
    {
     "data": {
      "text/html": [
       "<div>\n",
       "<style scoped>\n",
       "    .dataframe tbody tr th:only-of-type {\n",
       "        vertical-align: middle;\n",
       "    }\n",
       "\n",
       "    .dataframe tbody tr th {\n",
       "        vertical-align: top;\n",
       "    }\n",
       "\n",
       "    .dataframe thead th {\n",
       "        text-align: right;\n",
       "    }\n",
       "</style>\n",
       "<table border=\"1\" class=\"dataframe\">\n",
       "  <thead>\n",
       "    <tr style=\"text-align: right;\">\n",
       "      <th></th>\n",
       "      <th>line</th>\n",
       "      <th>region</th>\n",
       "    </tr>\n",
       "  </thead>\n",
       "  <tbody>\n",
       "    <tr>\n",
       "      <th>0</th>\n",
       "      <td>Scaffold_27\\t.\\tcontig\\t1\\t3334\\t.\\t.\\t.\\tID=S...</td>\n",
       "      <td>Scaffold_27</td>\n",
       "    </tr>\n",
       "    <tr>\n",
       "      <th>1</th>\n",
       "      <td>Scaffold_27\\trepeat_gff:repeatmasker\\tmatch\\t1...</td>\n",
       "      <td>Scaffold_27</td>\n",
       "    </tr>\n",
       "    <tr>\n",
       "      <th>2</th>\n",
       "      <td>Scaffold_27\\trepeat_gff:repeatmasker\\tmatch_pa...</td>\n",
       "      <td>Scaffold_27</td>\n",
       "    </tr>\n",
       "    <tr>\n",
       "      <th>3</th>\n",
       "      <td>Scaffold_27\\trepeat_gff:repeatmasker\\tmatch\\t3...</td>\n",
       "      <td>Scaffold_27</td>\n",
       "    </tr>\n",
       "    <tr>\n",
       "      <th>4</th>\n",
       "      <td>Scaffold_27\\trepeat_gff:repeatmasker\\tmatch_pa...</td>\n",
       "      <td>Scaffold_27</td>\n",
       "    </tr>\n",
       "  </tbody>\n",
       "</table>\n",
       "</div>"
      ],
      "text/plain": [
       "                                                line       region\n",
       "0  Scaffold_27\\t.\\tcontig\\t1\\t3334\\t.\\t.\\t.\\tID=S...  Scaffold_27\n",
       "1  Scaffold_27\\trepeat_gff:repeatmasker\\tmatch\\t1...  Scaffold_27\n",
       "2  Scaffold_27\\trepeat_gff:repeatmasker\\tmatch_pa...  Scaffold_27\n",
       "3  Scaffold_27\\trepeat_gff:repeatmasker\\tmatch\\t3...  Scaffold_27\n",
       "4  Scaffold_27\\trepeat_gff:repeatmasker\\tmatch_pa...  Scaffold_27"
      ]
     },
     "execution_count": 121,
     "metadata": {},
     "output_type": "execute_result"
    }
   ],
   "source": [
    "gff = pd.DataFrame(gfflines, columns=[\"line\"])\n",
    "gff[\"region\"] = [item[0] for item in gff[\"line\"].str.split(\"\\t\", n=1)]\n",
    "gff.head()"
   ]
  },
  {
   "cell_type": "markdown",
   "metadata": {},
   "source": [
    "Putting it all together..."
   ]
  },
  {
   "cell_type": "code",
   "execution_count": 122,
   "metadata": {},
   "outputs": [
    {
     "data": {
      "text/html": [
       "<div>\n",
       "<style scoped>\n",
       "    .dataframe tbody tr th:only-of-type {\n",
       "        vertical-align: middle;\n",
       "    }\n",
       "\n",
       "    .dataframe tbody tr th {\n",
       "        vertical-align: top;\n",
       "    }\n",
       "\n",
       "    .dataframe thead th {\n",
       "        text-align: right;\n",
       "    }\n",
       "</style>\n",
       "<table border=\"1\" class=\"dataframe\">\n",
       "  <thead>\n",
       "    <tr style=\"text-align: right;\">\n",
       "      <th></th>\n",
       "      <th>line</th>\n",
       "      <th>region</th>\n",
       "    </tr>\n",
       "  </thead>\n",
       "  <tbody>\n",
       "    <tr>\n",
       "      <th>0</th>\n",
       "      <td>##sequence-region Scaffold_1 1 1270\\n</td>\n",
       "      <td>Scaffold_1</td>\n",
       "    </tr>\n",
       "    <tr>\n",
       "      <th>1</th>\n",
       "      <td>##sequence-region Scaffold_2 1271 2310\\n</td>\n",
       "      <td>Scaffold_2</td>\n",
       "    </tr>\n",
       "    <tr>\n",
       "      <th>2</th>\n",
       "      <td>##sequence-region Scaffold_3 2311 4140\\n</td>\n",
       "      <td>Scaffold_3</td>\n",
       "    </tr>\n",
       "    <tr>\n",
       "      <th>3</th>\n",
       "      <td>##sequence-region Scaffold_4 4141 5375\\n</td>\n",
       "      <td>Scaffold_4</td>\n",
       "    </tr>\n",
       "    <tr>\n",
       "      <th>4</th>\n",
       "      <td>##sequence-region Scaffold_5 5376 8555\\n</td>\n",
       "      <td>Scaffold_5</td>\n",
       "    </tr>\n",
       "  </tbody>\n",
       "</table>\n",
       "</div>"
      ],
      "text/plain": [
       "                                       line      region\n",
       "0     ##sequence-region Scaffold_1 1 1270\\n  Scaffold_1\n",
       "1  ##sequence-region Scaffold_2 1271 2310\\n  Scaffold_2\n",
       "2  ##sequence-region Scaffold_3 2311 4140\\n  Scaffold_3\n",
       "3  ##sequence-region Scaffold_4 4141 5375\\n  Scaffold_4\n",
       "4  ##sequence-region Scaffold_5 5376 8555\\n  Scaffold_5"
      ]
     },
     "execution_count": 122,
     "metadata": {},
     "output_type": "execute_result"
    }
   ],
   "source": [
    "gff3regions = pd.DataFrame(data=fai2gff3regions(fai_path=faipath), columns=[\"line\"])\n",
    "gff3regions[\"region\"] = [item[1] for item in gff3regions[\"line\"].str.split()]\n",
    "gff3regions.head()"
   ]
  },
  {
   "cell_type": "code",
   "execution_count": 124,
   "metadata": {},
   "outputs": [],
   "source": [
    "output = \"/Users/iangilman/Dropbox/P_amilis_genome_project/P_amilis_R1.all.noseq.organized.gff\"\n",
    "with open(output, \"w+\") as o:\n",
    "    for i,region in enumerate(gff3regions[\"region\"]):\n",
    "        o.writelines([gff3regions[\"line\"][i]]+list(gff[gff[\"region\"]==region][\"line\"]))"
   ]
  },
  {
   "cell_type": "code",
   "execution_count": 130,
   "metadata": {},
   "outputs": [
    {
     "data": {
      "text/html": [
       "<div>\n",
       "<style scoped>\n",
       "    .dataframe tbody tr th:only-of-type {\n",
       "        vertical-align: middle;\n",
       "    }\n",
       "\n",
       "    .dataframe tbody tr th {\n",
       "        vertical-align: top;\n",
       "    }\n",
       "\n",
       "    .dataframe thead th {\n",
       "        text-align: right;\n",
       "    }\n",
       "</style>\n",
       "<table border=\"1\" class=\"dataframe\">\n",
       "  <thead>\n",
       "    <tr style=\"text-align: right;\">\n",
       "      <th></th>\n",
       "      <th>line</th>\n",
       "      <th>region</th>\n",
       "    </tr>\n",
       "  </thead>\n",
       "  <tbody>\n",
       "    <tr>\n",
       "      <th>2365</th>\n",
       "      <td>##sequence-region Scaffold_2366 230290449 2712...</td>\n",
       "      <td>Scaffold_2366</td>\n",
       "    </tr>\n",
       "  </tbody>\n",
       "</table>\n",
       "</div>"
      ],
      "text/plain": [
       "                                                   line         region\n",
       "2365  ##sequence-region Scaffold_2366 230290449 2712...  Scaffold_2366"
      ]
     },
     "execution_count": 130,
     "metadata": {},
     "output_type": "execute_result"
    }
   ],
   "source": [
    "gff3regions[gff3regions[\"region\"]==\"Scaffold_2366\"]"
   ]
  },
  {
   "cell_type": "code",
   "execution_count": null,
   "metadata": {},
   "outputs": [],
   "source": [
    "230290449"
   ]
  }
 ],
 "metadata": {
  "kernelspec": {
   "display_name": "Python 3",
   "language": "python",
   "name": "python3"
  },
  "language_info": {
   "codemirror_mode": {
    "name": "ipython",
    "version": 3
   },
   "file_extension": ".py",
   "mimetype": "text/x-python",
   "name": "python",
   "nbconvert_exporter": "python",
   "pygments_lexer": "ipython3",
   "version": "3.6.7"
  }
 },
 "nbformat": 4,
 "nbformat_minor": 2
}
